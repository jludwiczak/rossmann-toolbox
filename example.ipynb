{
 "cells": [
  {
   "cell_type": "code",
   "execution_count": 1,
   "id": "2afa126b-d2fb-46ee-9f38-f8b9aafd9f15",
   "metadata": {},
   "outputs": [],
   "source": [
    "%load_ext autoreload\n",
    "%autoreload 2"
   ]
  },
  {
   "cell_type": "code",
   "execution_count": 2,
   "id": "6b71ed22-d7ae-4cf7-b6c9-02d00afe34e3",
   "metadata": {},
   "outputs": [
    {
     "name": "stderr",
     "output_type": "stream",
     "text": [
      "Using backend: pytorch\n"
     ]
    }
   ],
   "source": [
    "from rossmann_toolbox import RossmannToolbox\n",
    "rtb = RossmannToolbox(use_gpu=True)"
   ]
  },
  {
   "cell_type": "code",
   "execution_count": 3,
   "id": "818debfe-5c81-491b-8847-15689f711e02",
   "metadata": {},
   "outputs": [],
   "source": [
    "models = [i.strip() for i in open('/home/nfs/sdunin/calc/DeepLigand/brute_scan/dlmodels.txt').readlines()]"
   ]
  },
  {
   "cell_type": "code",
   "execution_count": 4,
   "id": "4c7b2640-7b36-4c39-a0b1-04b0ee220177",
   "metadata": {},
   "outputs": [],
   "source": [
    "from rossmann_toolbox.models.structmodel import GAT"
   ]
  },
  {
   "cell_type": "code",
   "execution_count": 5,
   "id": "generous-center",
   "metadata": {},
   "outputs": [],
   "source": [
    "import sys\n",
    "import os\n",
    "import pandas as pd\n",
    "PATH_FOLDX_FLOW = '/home/users/kkaminski/DL/ewolutor/evo'\n",
    "\n",
    "PATH_LOCALPDB_REPO = '/home/nfs/jludwiczak/localpdb'\n",
    "PATH_LOCALPDB_STRUC = '/home/db/localpdb'#\n",
    "LOCALPDB_PLUGINS = ['PDBSeqresMapper', 'Biounit']\n",
    "PATH_CACHED_STRUCTURES = '/home/users/kkaminski/DL/cached_structures'\n",
    "PATH_FOLDX = '/home/users/sdunin/apps/foldx5/foldx'\n",
    "sys.path.extend([PATH_FOLDX_FLOW, PATH_LOCALPDB_REPO, PATH_LOCALPDB_STRUC])"
   ]
  },
  {
   "cell_type": "code",
   "execution_count": 6,
   "id": "fb07422a-b511-4b42-ba23-263490c33856",
   "metadata": {},
   "outputs": [],
   "source": [
    "#parsing structure\n",
    "from Bio.SeqUtils import seq1\n",
    "import atomium"
   ]
  },
  {
   "cell_type": "code",
   "execution_count": 7,
   "id": "cdf27ef5-080e-4146-a32b-bc0efe5ad26d",
   "metadata": {},
   "outputs": [],
   "source": [
    "#foldx\n",
    "from modelling import tools, myfoldx"
   ]
  },
  {
   "cell_type": "code",
   "execution_count": 8,
   "id": "942bfeed-71c5-4a7f-bd14-6b0acccb7569",
   "metadata": {},
   "outputs": [],
   "source": [
    "#localpdb\n",
    "from localpdb import PDB\n",
    "localpdb = None"
   ]
  },
  {
   "cell_type": "code",
   "execution_count": 9,
   "id": "babf50aa-3f23-42a8-9b7b-8f5084b4df66",
   "metadata": {},
   "outputs": [],
   "source": [
    "#code utils\n",
    "from shutil import copyfileobj\n",
    "import gzip"
   ]
  },
  {
   "cell_type": "code",
   "execution_count": 31,
   "id": "7a22835f-e661-47fe-ae5a-8a3304e86ab9",
   "metadata": {},
   "outputs": [],
   "source": [
    "# feature preparation\n",
    "from rossmann_toolbox.utils import feats_from_stuct_file, separate_beta_helix"
   ]
  },
  {
   "cell_type": "code",
   "execution_count": 11,
   "id": "522d5cf2-089e-4bb9-a3f4-bc76a2235256",
   "metadata": {},
   "outputs": [],
   "source": [
    "# DL3D flow\n",
    "from rossmann_toolbox.utils import Deepligand3D"
   ]
  },
  {
   "cell_type": "code",
   "execution_count": 12,
   "id": "7dc88321-9db9-42a7-b0fe-d68150caac55",
   "metadata": {},
   "outputs": [
    {
     "name": "stdout",
     "output_type": "stream",
     "text": [
      "\u001b[0m\u001b[01;34mbak_old\u001b[0m/\n",
      "clusters_df.p\n",
      "cores_df.p\n",
      "\u001b[01;34mdata\u001b[0m/\n",
      "PC_09_TF_07_COM_1_CLM_2_EXP_DS_v12_20200717.p\n",
      "split.fas\n",
      "split.fas.phr\n",
      "split.fas.pin\n",
      "split.fas.psq\n",
      "tempq.fas\n",
      "tmpblasthsp.txt\n",
      "TrainTestValid_TF_06_COM_0_CLM_0_DS_v12_20200717.p\n",
      "TrainTestValid_TF_06_COM_0_CLM_0_NOEXP_DS_v12_20200717.p\n"
     ]
    }
   ],
   "source": [
    "%ls ../data/"
   ]
  },
  {
   "cell_type": "code",
   "execution_count": 13,
   "id": "a52ae937-4f08-4ad0-b6f0-74096c9beef1",
   "metadata": {},
   "outputs": [],
   "source": [
    "df = pd.read_pickle('../data/TrainTestValid_TF_06_COM_0_CLM_0_NOEXP_DS_v12_20200717.p')"
   ]
  },
  {
   "cell_type": "code",
   "execution_count": 14,
   "id": "74488496-d515-4477-bdd1-e3056e1b944c",
   "metadata": {},
   "outputs": [
    {
     "data": {
      "text/plain": [
       "['1af7_A',\n",
       " '1bsv_A',\n",
       " '1bw9_A',\n",
       " '1b4v_A',\n",
       " '1coy_A',\n",
       " '1d4f_A',\n",
       " '1d4o_A',\n",
       " '1an9_A',\n",
       " '1dhr_A',\n",
       " '1dl5_A']"
      ]
     },
     "execution_count": 14,
     "metadata": {},
     "output_type": "execute_result"
    }
   ],
   "source": [
    "df[df['class'] == 'train'].pdb_chain.tolist()[:10]"
   ]
  },
  {
   "cell_type": "code",
   "execution_count": 15,
   "id": "80ebb0f9-3980-4df3-91d5-06fdc60fc863",
   "metadata": {},
   "outputs": [],
   "source": [
    "if localpdb is None:\n",
    "    localpdb = PDB(db_path=PATH_LOCALPDB_STRUC, plugins=LOCALPDB_PLUGINS)\n",
    "available_structures = localpdb.structures['biounit']"
   ]
  },
  {
   "cell_type": "code",
   "execution_count": 16,
   "id": "558b66fd-e599-47c2-a0eb-0a9e1bb91db7",
   "metadata": {},
   "outputs": [],
   "source": [
    "#add some chains\n",
    "dl3d_train_cores = ['1af7_A','1bsv_A','1bw9_A','1b4v_A','1coy_A','1d4f_A','1d4o_A','1an9_A','1dhr_A','1dl5_A']\n",
    "dl3d_other_cores = ['1b14_A', '1dli_A']\n",
    "cores_to_process = localpdb.chains.loc[localpdb.chains.index.isin(dl3d_train_cores+dl3d_other_cores), 'sequence'].to_dict()"
   ]
  },
  {
   "cell_type": "markdown",
   "id": "8cac4135-f0c9-4dc2-a66a-e231ac4d0976",
   "metadata": {},
   "source": [
    "* https://gitlab.com/labstructbioinf/rossmanndata/-/blob/master/DeepLigand/3b_Publication_Web.ipynb"
   ]
  },
  {
   "cell_type": "code",
   "execution_count": 17,
   "id": "bored-provision",
   "metadata": {},
   "outputs": [],
   "source": [
    "data = {'seq1': 'MSKKFNGKVCLVTGAGGNIGLATALRLAEEGTAIALLDMNREAL', \n",
    "        'seq2': 'MSKKFNGKVCLVTGAGGNIGLATALRLAEEGTAIALLSRNREAL'}\n",
    "preds = rtb.predict(data, mode='core', importance=False)\n",
    "preds = {'seq1': {'FAD': 0.0010036804,\n",
    "  'FAD_std': 0.001190269,\n",
    "  'NAD': 0.9867387,\n",
    "  'NAD_std': 0.016175654,\n",
    "  'NADP': 0.014890989,\n",
    "  'NADP_std': 0.015133685,\n",
    "  'SAM': 0.00017169576,\n",
    "  'SAM_std': 0.0002028175},\n",
    " 'seq2': {'FAD': 6.141185e-08,\n",
    "  'FAD_std': 5.1703925e-08,\n",
    "  'NAD': 1.699253e-05,\n",
    "  'NAD_std': 2.501946e-05,\n",
    "  'NADP': 0.9999896,\n",
    "  'NADP_std': 1.4234308e-05,\n",
    "  'SAM': 1.1083341e-05,\n",
    "  'SAM_std': 1.9881409e-05}}"
   ]
  },
  {
   "cell_type": "code",
   "execution_count": 18,
   "id": "dc8d7814-dd80-41d3-90b9-5ad1d63fa80c",
   "metadata": {},
   "outputs": [],
   "source": [
    "data = {'1piw_A': 'MSYPEKFEGIAIQSHEDWKNPKKTKYDPKPFYDHDIDIKIEACGVCGSDIHCAAGHWGNMKMPLVVGHEIVGKVVKLGPKSNSGLKVGQRVGVGAQVFSCLECDRCKNDNEPYCTKFVTTYSQPYEDGYVSQGGYANYVRVHEHFVVPIPENIPSHLAAPLLCGGLTVYSPLVRNGCGPGKKVGIVGLGGIGSMGTLISKAMGAETYVISRSSRKREDAMKMGADHYIATLEEGDWGEKYFDTFDLIVVCASSLTDIDFNIMPKAMKVGGRIVSISIPEQHEMLSLKPYGLKAVSISYSALGSIKELNQLLKLVSEKDIKIWVETLPVGEAGVHEAFERMEKGDVRYRFTLVGYDKEFSD'}\n",
    "preds = rtb.predict(data, mode='seq', importance=False)\n",
    "\n",
    "preds = {'1piw_A': {'FAD': 2.0404239e-11,\n",
    "  'FAD_std': 3.5465863e-11,\n",
    "  'NAD': 7.502697e-09,\n",
    "  'NAD_std': 7.654336e-09,\n",
    "  'NADP': 1.0,\n",
    "  'NADP_std': 0.0,\n",
    "  'SAM': 8.859513e-09,\n",
    "  'SAM_std': 1.7599064e-08,\n",
    "  'sequence': 'NGCGPGKKVGIVGLGGIGSMGTLISKAMGAETYVISRSSRKR'}}"
   ]
  },
  {
   "cell_type": "markdown",
   "id": "d7e3e778-407c-4d15-b9b9-42a5fc771791",
   "metadata": {},
   "source": [
    "# utils"
   ]
  },
  {
   "cell_type": "code",
   "execution_count": 19,
   "id": "597d66cd-fe08-4cec-8baa-f198d6ad63d6",
   "metadata": {},
   "outputs": [],
   "source": [
    "class StructureNotFound(Exception):\n",
    "    pass\n",
    "class ChainNotFound(Exception):\n",
    "    pass"
   ]
  },
  {
   "cell_type": "code",
   "execution_count": 20,
   "id": "8714344c-2ef2-4a4c-a138-cd2046bea0c5",
   "metadata": {},
   "outputs": [],
   "source": [
    "class StructPrep:\n",
    "    path=PATH_CACHED_STRUCTURES\n",
    "    foldx_suffix = '_Repair.pdb'\n",
    "\n",
    "    def __init__(self):\n",
    "        self.foldx_feat_suffix = self.foldx_suffix.replace('.pdb', '.fxout')\n",
    "        self._read_cache()\n",
    "        pass\n",
    "    \n",
    "    def find_source_struct_file(self, struct_id):\n",
    "        \n",
    "        if struct_id.endswith('.pdb'):\n",
    "            struct_id = struc_id.replace('.pdb', '')\n",
    "        \n",
    "        source_struct_file = available_structures[available_structures.index == struct_id]\n",
    "        if source_struct_file.empty:\n",
    "            raise StructureNotFound('no structure file for ', struct_id)\n",
    "        else:\n",
    "            source_struct_file = source_struct_file.tolist()[0]\n",
    "        print('Found structrue for %s -> %s' %(struct_id, source_struct_file))\n",
    "        return source_struct_file\n",
    "    \n",
    "    def _read_cache(self):\n",
    "        self.files = os.listdir(self.path)\n",
    "        self.files_struct = [f for f in self.files if f.find(self.foldx_suffix) == -1]\n",
    "        self.files_foldx = [f for f in self.files if f.find(self.foldx_suffix) != -1]\n",
    "        self.files_foldx_feats = [f for f in self.files if f.find(self.foldx_feat_suffix) != -1]\n",
    "          \n",
    "    def is_structure_file_cached(self, file_pdb):\n",
    "\n",
    "        condition = False\n",
    "        path_file_full = os.path.join(self.path, file_pdb)\n",
    "        if file_pdb in self.files_struct:\n",
    "            if os.path.getsize(path_file_full) > 0:\n",
    "                condition = True\n",
    "        return condition\n",
    "    \n",
    "    def is_foldx_feat_file_cached(self, file_pdb):\n",
    "        \n",
    "        assert file_pdb.endswith(self.foldx_feat_suffix), 'foldx feats should match %s extension' %self.foldx_feat_suffix\n",
    "\n",
    "        condition = False\n",
    "        path_file_full = os.path.join(self.path, file_pdb)\n",
    "        if file_pdb in self.files_foldx_feats:\n",
    "            if os.path.getsize(path_file_full) > 0:\n",
    "                condition = True\n",
    "        return condition\n",
    "    \n",
    "    def is_foldx_file_cached(self, file_pdb):\n",
    "\n",
    "        assert file_pdb.endswith(self.foldx_suffix), 'foldx feats should match %s extension' %self.foldx_suffix\n",
    "\n",
    "        condition = False\n",
    "        path_file_full = os.path.join(self.path, file_pdb)\n",
    "        if file_pdb in self.files_foldx:\n",
    "            if os.path.getsize(path_file_full) > 0:\n",
    "                condition = True\n",
    "        return condition\n",
    "    \n",
    "    def cache_struct(self, source_pdb):\n",
    "        \n",
    "        basename = os.path.basename(source_pdb)\n",
    "        if basename.endswith('gz'):\n",
    "            basename = basename.replace('.gz', '')\n",
    "            \n",
    "        destination_pdb = os.path.join(self.path, basename)\n",
    "        with open(destination_pdb, 'wt') as f_destination:\n",
    "            with gzip.open(source_pdb, 'rt') as f_source:\n",
    "                copyfileobj(f_source, f_destination)\n",
    "                \n",
    "        return destination_pdb\n",
    "\n",
    "struct_prep = StructPrep()"
   ]
  },
  {
   "cell_type": "markdown",
   "id": "54da03b3-998f-41d5-b0b4-f647a2f7a4e7",
   "metadata": {},
   "source": [
    "# prepare struct & foldX data"
   ]
  },
  {
   "cell_type": "code",
   "execution_count": 21,
   "id": "56d56a10-3c9f-42b7-9fb2-9ab2567577b7",
   "metadata": {},
   "outputs": [
    {
     "name": "stdout",
     "output_type": "stream",
     "text": [
      "structure file 1dli_A.pdb exists\n",
      "foldx file 1dli_A_Repair.pdb already exists\n",
      "foldx feats file 1dli_A_Repair.fxout already exists\n"
     ]
    }
   ],
   "source": [
    "pdb_id, seq_full = cores_to_process.copy().popitem()\n",
    "struc_id, chain_id = pdb_id.split('_')\n",
    "\n",
    "struct_file_basename = '%s.pdb' %pdb_id\n",
    "foldx_file_basename = '%s%s'%(pdb_id, struct_prep.foldx_suffix)\n",
    "foldx_feats_file_basename = '%s%s'%(pdb_id, struct_prep.foldx_feat_suffix)\n",
    "\n",
    "struct_file = os.path.join(struct_prep.path, struct_file_basename)\n",
    "foldx_file = os.path.join(struct_prep.path, foldx_file_basename)\n",
    "foldx_feats = os.path.join(struct_prep.path, foldx_feats_file_basename)\n",
    "\n",
    "#check is structure is cached\n",
    "if struct_prep.is_structure_file_cached(struct_file_basename):\n",
    "    print('structure file %s exists' %struct_file_basename)\n",
    "else:\n",
    "    source_struct_file = struct_prep.find_source_struct_file(struct_file_basename)\n",
    "    temp = atomium.fetch(struc_id.upper())\n",
    "    temp.model.chain(chain_id.upper()).save(struct_file)\n",
    "#check if foldx structure is cached \n",
    "if struct_prep.is_foldx_file_cached(foldx_file_basename):\n",
    "    print('foldx file %s already exists' %foldx_file_basename)\n",
    "else:\n",
    "    print('creating foldx file')\n",
    "    work_dir = os.getcwd()\n",
    "    #change working directory to `PATH_CACHED_STRUCTURES` without that\n",
    "    #foldx cant find structure error `No pdbs for the run found at: \"./\" Foldx will end`\n",
    "    os.chdir(struct_prep.path)\n",
    "    cmd = f'{PATH_FOLDX} --command=RepairPDB --pdb={struct_file_basename}'\n",
    "    out = tools.run_command(cmd)\n",
    "    myfoldx.fix_TER(foldx_file_basename)\n",
    "if struct_prep.is_foldx_feat_file_cached(foldx_feats_file_basename):\n",
    "    print('foldx feats file %s already exists' %foldx_feats_file_basename)\n",
    "else:\n",
    "    print('creating foldx feature file...')\n",
    "    # calculate structural features using foldX \n",
    "    # it always calc features - probably some kind of file name error\n",
    "    fx = myfoldx.MyFoldX(struct_prep.path, struct_prep.path, PATH_FOLDX)\n",
    "    fx._MyFoldX__calc_foldx_features(struct_prep.path, foldx_file_basename)\n",
    "    print('foldx file %s created' %path_foldx_struct)  \n",
    "    # calculate structural features using foldX\n",
    "    "
   ]
  },
  {
   "cell_type": "markdown",
   "id": "f635b7b4-101c-48e3-b1d4-42628983a9b0",
   "metadata": {},
   "source": [
    "# find cores"
   ]
  },
  {
   "cell_type": "markdown",
   "id": "0f3e3046-f72d-48a3-bf88-fb5929cc1866",
   "metadata": {},
   "source": [
    "# create frame"
   ]
  },
  {
   "cell_type": "code",
   "execution_count": 32,
   "id": "33f8a8e2-3789-455d-9481-7d1784399ee3",
   "metadata": {},
   "outputs": [],
   "source": [
    "structure = atomium.open(foldx_file)\n",
    "chain = structure.model.chain(chain_id)\n",
    "if chain is None:\n",
    "    raise ChainNotFound('chain %s not found in struct: %s ' %(chain_id, struc_id))\n",
    "    \n",
    "pdb_res = [res for res in chain.residues() if seq1(res.name)!='X']\n",
    "pdbids = [res.id.split('.')[1] for res in pdb_res]\n",
    "pdbseq = \"\".join([seq1(res.name) for res in pdb_res]) \n",
    "\n",
    "\n",
    "# find core\n",
    "data = {pdb_id: pdbseq}\n",
    "detected_cores = rtb.seq_detect_cores(data)\n",
    "filtred_cores = rtb._get_cores_from_seq(data, detected_cores)\n",
    "frame_list = list()\n",
    "for pdb_chain, core_seq in filtred_cores.items():\n",
    "    core_pos = pdbseq.find(core_seq)\n",
    "    if core_pos == -1:\n",
    "        error('could not map the core onto the sequence')\n",
    "    pdb_list = pdbids[core_pos:core_pos+len(core_seq)]\n",
    "    ss = tools.extract_core_dssp(foldx_file, pdb_list, core_seq)\n",
    "    ss = separate_beta_helix(ss)\n",
    "    \n",
    "    frame_list.append({\n",
    "        'pdb_chain' : pdb_chain,\n",
    "        'seq' : core_seq,\n",
    "        'pdb_list' : pdb_list,\n",
    "        'fname' : struct_file,\n",
    "        'secondary' : ss\n",
    "    })\n",
    "    \n",
    "    \n",
    "frame = pd.DataFrame(frame_list)"
   ]
  },
  {
   "cell_type": "markdown",
   "id": "70818976-eed9-4d1b-84dd-14fe592d111c",
   "metadata": {},
   "source": [
    "# prepare features"
   ]
  },
  {
   "cell_type": "code",
   "execution_count": 23,
   "id": "b3a071fc-8bd0-4d58-a825-a15f03f8a2bd",
   "metadata": {},
   "outputs": [
    {
     "name": "stdout",
     "output_type": "stream",
     "text": [
      "parsing /home/users/kkaminski/DL/cached_structures/InteractingResidues_Hbonds_Optimized_1dli_A_Repair_PN.fxout\n",
      "--- Residue-Residue Interactions\n",
      "--- Mainchain-Mainchain Interactions\n",
      "--- Sidechain-Mainchain Interactions\n",
      "--- Sidechain-Sidechain Interactions\n",
      "parsing /home/users/kkaminski/DL/cached_structures/InteractingResidues_Volumetric_Optimized_1dli_A_Repair_PN.fxout\n",
      "--- Residue-Residue Interactions\n",
      "--- Mainchain-Mainchain Interactions\n",
      "--- Sidechain-Mainchain Interactions\n",
      "--- Sidechain-Sidechain Interactions\n",
      "parsing /home/users/kkaminski/DL/cached_structures/InteractingResidues_Electro_Optimized_1dli_A_Repair_PN.fxout\n",
      "--- Residue-Residue Interactions\n",
      "--- Mainchain-Mainchain Interactions\n",
      "--- Sidechain-Mainchain Interactions\n",
      "--- Sidechain-Sidechain Interactions\n",
      "parsing /home/users/kkaminski/DL/cached_structures/InteractingResidues_VdWClashes_Optimized_1dli_A_Repair_PN.fxout\n",
      "--- Residue-Residue Interactions\n",
      "--- Mainchain-Mainchain Interactions\n",
      "--- Sidechain-Mainchain Interactions\n",
      "--- Sidechain-Sidechain Interactions\n"
     ]
    }
   ],
   "source": [
    "foldx_info, distances_dict, edge_dict = feats_from_stuct_file(frame)"
   ]
  },
  {
   "cell_type": "markdown",
   "id": "8e7140f1-d061-4707-a0c0-7c961b2c8b50",
   "metadata": {},
   "source": [
    "# make predictions"
   ]
  },
  {
   "cell_type": "code",
   "execution_count": 24,
   "id": "be4dd3b5-273e-4696-8247-2f18319debe2",
   "metadata": {},
   "outputs": [
    {
     "name": "stdout",
     "output_type": "stream",
     "text": [
      "loaded 4 models\n"
     ]
    }
   ],
   "source": [
    "dl3d = Deepligand3D(models)"
   ]
  },
  {
   "cell_type": "code",
   "execution_count": 34,
   "id": "d4b16054-f2bf-4cb4-9388-2b58e46aa269",
   "metadata": {},
   "outputs": [
    {
     "name": "stdout",
     "output_type": "stream",
     "text": [
      "seq to process: 1 1\n"
     ]
    }
   ],
   "source": [
    "preds = dl3d.predict(frame, distances_dict, edge_dict, foldx_info)"
   ]
  },
  {
   "cell_type": "code",
   "execution_count": 35,
   "id": "0965c227-d9c4-45f3-9ac5-d12df6794af1",
   "metadata": {},
   "outputs": [
    {
     "data": {
      "text/html": [
       "<div>\n",
       "<style scoped>\n",
       "    .dataframe tbody tr th:only-of-type {\n",
       "        vertical-align: middle;\n",
       "    }\n",
       "\n",
       "    .dataframe tbody tr th {\n",
       "        vertical-align: top;\n",
       "    }\n",
       "\n",
       "    .dataframe thead th {\n",
       "        text-align: right;\n",
       "    }\n",
       "</style>\n",
       "<table border=\"1\" class=\"dataframe\">\n",
       "  <thead>\n",
       "    <tr style=\"text-align: right;\">\n",
       "      <th></th>\n",
       "      <th>NAD</th>\n",
       "      <th>NADP</th>\n",
       "      <th>SAM</th>\n",
       "      <th>FAD</th>\n",
       "      <th>cofactor</th>\n",
       "      <th>seq</th>\n",
       "      <th>NAD_std</th>\n",
       "      <th>NADP_std</th>\n",
       "      <th>SAM_std</th>\n",
       "      <th>FAD_std</th>\n",
       "    </tr>\n",
       "  </thead>\n",
       "  <tbody>\n",
       "    <tr>\n",
       "      <th>0</th>\n",
       "      <td>0.875</td>\n",
       "      <td>0.625</td>\n",
       "      <td>0.25</td>\n",
       "      <td>0.5</td>\n",
       "      <td>NAD</td>\n",
       "      <td>MKIAVAGSGYVGLSLGVLLSLQNEVTIVDILPSKV</td>\n",
       "      <td>0.25</td>\n",
       "      <td>0.478714</td>\n",
       "      <td>0.5</td>\n",
       "      <td>0.57735</td>\n",
       "    </tr>\n",
       "  </tbody>\n",
       "</table>\n",
       "</div>"
      ],
      "text/plain": [
       "     NAD   NADP   SAM  FAD cofactor                                  seq  \\\n",
       "0  0.875  0.625  0.25  0.5      NAD  MKIAVAGSGYVGLSLGVLLSLQNEVTIVDILPSKV   \n",
       "\n",
       "   NAD_std  NADP_std  SAM_std  FAD_std  \n",
       "0     0.25  0.478714      0.5  0.57735  "
      ]
     },
     "execution_count": 35,
     "metadata": {},
     "output_type": "execute_result"
    }
   ],
   "source": [
    "preds"
   ]
  }
 ],
 "metadata": {
  "kernelspec": {
   "display_name": "Python 3",
   "language": "python",
   "name": "python3"
  },
  "language_info": {
   "codemirror_mode": {
    "name": "ipython",
    "version": 3
   },
   "file_extension": ".py",
   "mimetype": "text/x-python",
   "name": "python",
   "nbconvert_exporter": "python",
   "pygments_lexer": "ipython3",
   "version": "3.6.13"
  }
 },
 "nbformat": 4,
 "nbformat_minor": 5
}
