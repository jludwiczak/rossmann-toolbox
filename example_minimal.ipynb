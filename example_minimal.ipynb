{
 "cells": [
  {
   "cell_type": "markdown",
   "metadata": {},
   "source": [
    "# rossmann-toolbox tutorial\n",
    "---\n",
    "In the case of problems do not hesitate to [contact us!](https://lbs.cent.uw.edu.pl)\n"
   ]
  },
  {
   "cell_type": "code",
   "execution_count": 1,
   "metadata": {},
   "outputs": [
    {
     "name": "stderr",
     "output_type": "stream",
     "text": [
      "Using backend: pytorch\n"
     ]
    }
   ],
   "source": [
    "from rossmann_toolbox import RossmannToolbox\n",
    "import matplotlib.pylab as plt\n",
    "\n",
    "# Structure-based predictions require FoldX, an external tool that can be obtained at:\n",
    "# http://foldxsuite.crg.eu/academic-license-info\n",
    "# Note that the foldX license expires periodically and has to be renewed by re-downloading the package.\n",
    "PATH_FOLDX = '/home/users/sdunin/apps/foldx5/foldx'\n",
    "\n",
    "# The b-a-b core regions can be either provided as an input or detected with the rossmann-toolbox. \n",
    "# The predictions can be made either with an deep learning tool included in the package or with \n",
    "# the HHpred tool. In the latter case, the HHpred path has to be provided.\n",
    "PATH_HHPRED = '/opt/apps/hh-suite/bin/hhsearch'\n"
   ]
  },
  {
   "cell_type": "code",
   "execution_count": 2,
   "metadata": {},
   "outputs": [
    {
     "name": "stdout",
     "output_type": "stream",
     "text": [
      "Loaded 4 structure-based prediction models.\n"
     ]
    }
   ],
   "source": [
    "rtb = RossmannToolbox(use_gpu=True, path_foldx_bin = PATH_FOLDX, \n",
    "                                    hhsearch_loc = PATH_HHPRED)"
   ]
  },
  {
   "cell_type": "markdown",
   "metadata": {},
   "source": [
    "## Sequence-based predictions"
   ]
  },
  {
   "cell_type": "markdown",
   "metadata": {},
   "source": [
    "#### The b-a-b core sequence is provided by the user `mode='core'`"
   ]
  },
  {
   "cell_type": "code",
   "execution_count": 4,
   "metadata": {},
   "outputs": [
    {
     "data": {
      "text/plain": [
       "{'seq1': {'FAD': 0.0005603419,\n",
       "  'FAD_std': 0.0011000456,\n",
       "  'NAD': 0.99922574,\n",
       "  'NAD_std': 0.0015423914,\n",
       "  'NADP': 3.5335976e-05,\n",
       "  'NADP_std': 5.579921e-05,\n",
       "  'SAM': 0.00019388269,\n",
       "  'SAM_std': 0.00037741943},\n",
       " 'seq2': {'FAD': 1.864489e-05,\n",
       "  'FAD_std': 3.1416417e-05,\n",
       "  'NAD': 0.020830967,\n",
       "  'NAD_std': 0.03749063,\n",
       "  'NADP': 0.9933503,\n",
       "  'NADP_std': 0.011801811,\n",
       "  'SAM': 3.6996444e-05,\n",
       "  'SAM_std': 5.2185434e-05}}"
      ]
     },
     "execution_count": 4,
     "metadata": {},
     "output_type": "execute_result"
    }
   ],
   "source": [
    "# Example obtained from Bae et al., 2010\n",
    "\n",
    "data = {'seq1': 'AGVRLGDPVLICGAGPIGLITMLCAKAAGACPLVITDIDEGR', # WT, binds NAD\n",
    "        'seq2': 'AGVRLGDPVLICGAGPIGLITMLCAKAAGACPLVITSRDEGR'} # D211S, I212R mutant, binds NADP\n",
    "\n",
    "preds, imps = rtb.predict(data, mode='core', importance=True)\n",
    "preds"
   ]
  },
  {
   "cell_type": "code",
   "execution_count": 5,
   "metadata": {},
   "outputs": [
    {
     "data": {
      "text/plain": [
       "<ErrorbarContainer object of 3 artists>"
      ]
     },
     "execution_count": 5,
     "metadata": {},
     "output_type": "execute_result"
    },
    {
     "data": {
      "image/png": "[encoded data removed]",
      "text/plain": [
       "<Figure size 432x288 with 1 Axes>"
      ]
     },
     "metadata": {
      "needs_background": "light"
     },
     "output_type": "display_data"
    }
   ],
   "source": [
    "# Which residues made the greatest contribution in predicting the WT as NAD-binding?\n",
    "seq_len = len(data['seq1'])\n",
    "plt.errorbar(list(range(1, seq_len+1)),\n",
    "             imps['seq1']['NAD'][0], yerr=imps['seq1']['NAD'][1], ecolor='grey')\n"
   ]
  },
  {
   "cell_type": "markdown",
   "metadata": {},
   "source": [
    "#### The b-a-b core will be predicted in the full-length sequence `mode='seq'`"
   ]
  },
  {
   "cell_type": "code",
   "execution_count": 6,
   "metadata": {},
   "outputs": [
    {
     "data": {
      "text/plain": [
       "{'3m6i_A': {'FAD': 0.00089554524,\n",
       "  'FAD_std': 0.0017580233,\n",
       "  'NAD': 0.998446,\n",
       "  'NAD_std': 0.0030978944,\n",
       "  'NADP': 0.00015508466,\n",
       "  'NADP_std': 0.0002893226,\n",
       "  'SAM': 0.00025443878,\n",
       "  'SAM_std': 0.0004918838,\n",
       "  'sequence': 'AGVRLGDPVLICGAGPIGLITMLCAKAAGACPLVITDIDEGRL'}}"
      ]
     },
     "execution_count": 6,
     "metadata": {},
     "output_type": "execute_result"
    }
   ],
   "source": [
    "data = {'3m6i_A': 'MASSASKTNIGVFTNPQHDLWISEASPSLESVQKGEELKEGEVTVAVRSTGICGSDVHFWKHGCIGPMIVECDHVLGHESAGEVIAVHPSVKSIKVGDRVAIEPQVICNACEPCLTGRYNGCERVDFLSTPPVPGLLRRYVNHPAVWCHKIGNMSYENGAMLEPLSVALAGLQRAGVRLGDPVLICGAGPIGLITMLCAKAAGACPLVITDIDEGRLKFAKEICPEVVTHKVERLSAEESAKKIVESFGGIEPAVALECTGVESSIAAAIWAVKFGGKVFVIGVGKNEIQIPFMRASVREVDLQFQYRYCNTWPRAIRLVENGLVDLTRLVTHRFPLEDALKAFETASDPKTGAIKVQIQSLE'}\n",
    "\n",
    "# Core region detection with in-built deep-learning model\n",
    "preds = rtb.predict(data, mode='seq', core_detect_mode='dl', importance=False)\n",
    "preds\n",
    "\n",
    "\n"
   ]
  },
  {
   "cell_type": "code",
   "execution_count": 7,
   "metadata": {},
   "outputs": [
    {
     "data": {
      "text/plain": [
       "{'3m6i_A': {'FAD': 0.0010708282,\n",
       "  'FAD_std': 0.0016058238,\n",
       "  'NAD': 0.99925435,\n",
       "  'NAD_std': 0.0013703959,\n",
       "  'NADP': 0.0001793907,\n",
       "  'NADP_std': 0.00020505665,\n",
       "  'SAM': 0.00024647813,\n",
       "  'SAM_std': 0.00047857445,\n",
       "  'sequence': 'VLICGAGPIGLITMLCAKAAGACPLVITDIDE'}}"
      ]
     },
     "execution_count": 7,
     "metadata": {},
     "output_type": "execute_result"
    }
   ],
   "source": [
    "# Core region detection with HHsearch tool of the HHpred package \n",
    "# Note that the two approaches may yield different results\n",
    "preds = rtb.predict(data, mode='seq', core_detect_mode='hhsearch', importance=False)\n",
    "preds"
   ]
  },
  {
   "cell_type": "markdown",
   "metadata": {},
   "source": [
    "## Structure-based predictions"
   ]
  },
  {
   "cell_type": "code",
   "execution_count": 8,
   "metadata": {},
   "outputs": [],
   "source": [
    "# We don't want to see PDB parsing warnings\n",
    "import warnings; warnings.filterwarnings(\"ignore\")"
   ]
  },
  {
   "cell_type": "markdown",
   "metadata": {},
   "source": [
    "#### The b-a-b core will be predicted in the input structure `mode='seq'`"
   ]
  },
  {
   "cell_type": "code",
   "execution_count": 9,
   "metadata": {},
   "outputs": [
    {
     "data": {
      "text/plain": [
       "[{'NAD': 0.9997788071632385,\n",
       "  'NADP': 0.0018194946460425854,\n",
       "  'SAM': 0.0034198295325040817,\n",
       "  'FAD': 3.619955532485619e-05,\n",
       "  'cofactor': 'NAD',\n",
       "  'seq': 'AGVRLGDPVLICGAGPIGLITMLCAKAAGACPLVITDIDEGRL',\n",
       "  'NAD_std': 0.00038787940866313875,\n",
       "  'NADP_std': 0.002135709160938859,\n",
       "  'SAM_std': 0.0041174632497131824,\n",
       "  'FAD_std': 3.949692836613394e-05}]"
      ]
     },
     "execution_count": 9,
     "metadata": {},
     "output_type": "execute_result"
    }
   ],
   "source": [
    "# Here, the input structure and all intermediate files will be stored\n",
    "# Please follow naming format XXXX_Y.pdb where XXXX is protein id and Y is a chain\n",
    "path_to_structures = '/home/users/sdunin/calc/Rossmann/toolbox-test/data/seq_mode'\n",
    "\n",
    "# Define chains that will be evaluated. If the structure is not present in the directory it will be downloaded\n",
    "chains_to_use = ['3m6i_A']\n",
    "\n",
    "# The WT structure was predicted (as in the case of sequence-based mode) to bind NAD\n",
    "preds = rtb.predict_structure(path_to_structures, chains_to_use, mode='seq', core_detect_mode='dl')\n",
    "preds"
   ]
  },
  {
   "cell_type": "markdown",
   "metadata": {},
   "source": [
    "#### The b-a-b core is provided by the user `mode='core'`"
   ]
  },
  {
   "cell_type": "code",
   "execution_count": 3,
   "metadata": {},
   "outputs": [],
   "source": [
    "path_to_structures = '/home/users/sdunin/calc/Rossmann/toolbox-test/data/core_mode'\n",
    "\n",
    "# The 3m6i_A.pdb file contains a model obtained with Modeller in which the two mutations D211S, I212R\n",
    "# were introduced. Not that this is a model of the whole structure not just the core region. \n",
    "# The full structure has to be used, as the structural features are contextual (e.g. burial of a residue\n",
    "# can be correctly assessed only in the context of the whole structure)\n",
    "chains_to_use = ['3m6i_A']\n"
   ]
  },
  {
   "cell_type": "code",
   "execution_count": 4,
   "metadata": {},
   "outputs": [
    {
     "name": "stdout",
     "output_type": "stream",
     "text": [
      "/home/users/sdunin/.local/lib/python3.6/site-packages/Bio/PDB/Atom.py:218 - Used element 'N' for Atom (name=N) with given element ''\n",
      "/home/users/sdunin/.local/lib/python3.6/site-packages/Bio/PDB/Atom.py:218 - Used element 'C' for Atom (name=CA) with given element ''\n",
      "/home/users/sdunin/.local/lib/python3.6/site-packages/Bio/PDB/Atom.py:218 - Used element 'C' for Atom (name=C) with given element ''\n",
      "/home/users/sdunin/.local/lib/python3.6/site-packages/Bio/PDB/Atom.py:218 - Used element 'O' for Atom (name=O) with given element ''\n",
      "/home/users/sdunin/.local/lib/python3.6/site-packages/Bio/PDB/Atom.py:218 - Used element 'C' for Atom (name=CB) with given element ''\n",
      "/home/users/sdunin/.local/lib/python3.6/site-packages/Bio/PDB/Atom.py:218 - Used element 'O' for Atom (name=OG) with given element ''\n",
      "/home/users/sdunin/.local/lib/python3.6/site-packages/Bio/PDB/Atom.py:218 - Used element 'C' for Atom (name=CG) with given element ''\n",
      "/home/users/sdunin/.local/lib/python3.6/site-packages/Bio/PDB/Atom.py:218 - Used element 'C' for Atom (name=CD) with given element ''\n",
      "/home/users/sdunin/.local/lib/python3.6/site-packages/Bio/PDB/Atom.py:218 - Used element 'C' for Atom (name=CE) with given element ''\n",
      "/home/users/sdunin/.local/lib/python3.6/site-packages/Bio/PDB/Atom.py:218 - Used element 'N' for Atom (name=NZ) with given element ''\n",
      "/home/users/sdunin/.local/lib/python3.6/site-packages/Bio/PDB/Atom.py:218 - Used element 'O' for Atom (name=OG1) with given element ''\n",
      "/home/users/sdunin/.local/lib/python3.6/site-packages/Bio/PDB/Atom.py:218 - Used element 'C' for Atom (name=CG2) with given element ''\n",
      "/home/users/sdunin/.local/lib/python3.6/site-packages/Bio/PDB/Atom.py:218 - Used element 'O' for Atom (name=OD1) with given element ''\n",
      "/home/users/sdunin/.local/lib/python3.6/site-packages/Bio/PDB/Atom.py:218 - Used element 'N' for Atom (name=ND2) with given element ''\n",
      "/home/users/sdunin/.local/lib/python3.6/site-packages/Bio/PDB/Atom.py:218 - Used element 'C' for Atom (name=CG1) with given element ''\n",
      "/home/users/sdunin/.local/lib/python3.6/site-packages/Bio/PDB/Atom.py:218 - Used element 'C' for Atom (name=CD1) with given element ''\n",
      "/home/users/sdunin/.local/lib/python3.6/site-packages/Bio/PDB/Atom.py:218 - Used element 'C' for Atom (name=CD2) with given element ''\n",
      "/home/users/sdunin/.local/lib/python3.6/site-packages/Bio/PDB/Atom.py:218 - Used element 'C' for Atom (name=CE1) with given element ''\n",
      "/home/users/sdunin/.local/lib/python3.6/site-packages/Bio/PDB/Atom.py:218 - Used element 'C' for Atom (name=CE2) with given element ''\n",
      "/home/users/sdunin/.local/lib/python3.6/site-packages/Bio/PDB/Atom.py:218 - Used element 'C' for Atom (name=CZ) with given element ''\n",
      "/home/users/sdunin/.local/lib/python3.6/site-packages/Bio/PDB/Atom.py:218 - Used element 'O' for Atom (name=OE1) with given element ''\n",
      "/home/users/sdunin/.local/lib/python3.6/site-packages/Bio/PDB/Atom.py:218 - Used element 'N' for Atom (name=NE2) with given element ''\n",
      "/home/users/sdunin/.local/lib/python3.6/site-packages/Bio/PDB/Atom.py:218 - Used element 'N' for Atom (name=ND1) with given element ''\n",
      "/home/users/sdunin/.local/lib/python3.6/site-packages/Bio/PDB/Atom.py:218 - Used element 'O' for Atom (name=OD2) with given element ''\n",
      "/home/users/sdunin/.local/lib/python3.6/site-packages/Bio/PDB/Atom.py:218 - Used element 'N' for Atom (name=NE1) with given element ''\n",
      "/home/users/sdunin/.local/lib/python3.6/site-packages/Bio/PDB/Atom.py:218 - Used element 'C' for Atom (name=CE3) with given element ''\n",
      "/home/users/sdunin/.local/lib/python3.6/site-packages/Bio/PDB/Atom.py:218 - Used element 'C' for Atom (name=CZ2) with given element ''\n",
      "/home/users/sdunin/.local/lib/python3.6/site-packages/Bio/PDB/Atom.py:218 - Used element 'C' for Atom (name=CZ3) with given element ''\n",
      "/home/users/sdunin/.local/lib/python3.6/site-packages/Bio/PDB/Atom.py:218 - Used element 'C' for Atom (name=CH2) with given element ''\n",
      "/home/users/sdunin/.local/lib/python3.6/site-packages/Bio/PDB/Atom.py:218 - Used element 'O' for Atom (name=OE2) with given element ''\n",
      "/home/users/sdunin/.local/lib/python3.6/site-packages/Bio/PDB/Atom.py:218 - Used element 'N' for Atom (name=NE) with given element ''\n",
      "/home/users/sdunin/.local/lib/python3.6/site-packages/Bio/PDB/Atom.py:218 - Used element 'N' for Atom (name=NH1) with given element ''\n",
      "/home/users/sdunin/.local/lib/python3.6/site-packages/Bio/PDB/Atom.py:218 - Used element 'N' for Atom (name=NH2) with given element ''\n",
      "/home/users/sdunin/.local/lib/python3.6/site-packages/Bio/PDB/Atom.py:218 - Used element 'S' for Atom (name=SG) with given element ''\n",
      "/home/users/sdunin/.local/lib/python3.6/site-packages/Bio/PDB/Atom.py:218 - Used element 'S' for Atom (name=SD) with given element ''\n",
      "/home/users/sdunin/.local/lib/python3.6/site-packages/Bio/PDB/Atom.py:218 - Used element 'O' for Atom (name=OH) with given element ''\n",
      "/home/users/sdunin/.local/lib/python3.6/site-packages/Bio/PDB/Atom.py:218 - Used element 'O' for Atom (name=OXT) with given element ''\n",
      "/home/users/sdunin/.local/lib/python3.6/site-packages/Bio/PDB/Atom.py:218 - Used element 'ZN' for Atom (name=ZN) with given element ''\n",
      "/home/users/sdunin/.local/lib/python3.6/site-packages/sklearn/base.py:318 - Trying to unpickle estimator StandardScaler from version 0.24.1 when using version 0.22.2.post1. This might lead to breaking code or invalid results. Use at your own risk.\n"
     ]
    },
    {
     "data": {
      "text/plain": [
       "[{'NAD': 0.07392216473817825,\n",
       "  'NADP': 0.9937467575073242,\n",
       "  'SAM': 0.003925769589841366,\n",
       "  'FAD': 0.00022765068570151925,\n",
       "  'cofactor': 'NADP',\n",
       "  'seq': 'AGVRLGDPVLICGAGPIGLITMLCAKAAGACPLVITSRDEGR',\n",
       "  'NAD_std': 0.1220666915178299,\n",
       "  'NADP_std': 0.0077379010617733,\n",
       "  'SAM_std': 0.0040618558414280415,\n",
       "  'FAD_std': 0.0002890863688662648}]"
      ]
     },
     "execution_count": 4,
     "metadata": {},
     "output_type": "execute_result"
    }
   ],
   "source": [
    "# The mutated structure was predicted (as in the case of sequence-based mode) to bind NADP\n",
    "preds = rtb.predict_structure(path_to_structures, chains_to_use, mode='core', \n",
    "                              core_list=['AGVRLGDPVLICGAGPIGLITMLCAKAAGACPLVITSRDEGR'])\n",
    "preds"
   ]
  },
  {
   "cell_type": "code",
   "execution_count": null,
   "metadata": {},
   "outputs": [],
   "source": []
  },
  {
   "cell_type": "code",
   "execution_count": null,
   "metadata": {},
   "outputs": [],
   "source": []
  }
 ],
 "metadata": {
  "kernelspec": {
   "display_name": "Python 3",
   "language": "python",
   "name": "python3"
  },
  "language_info": {
   "codemirror_mode": {
    "name": "ipython",
    "version": 3
   },
   "file_extension": ".py",
   "mimetype": "text/x-python",
   "name": "python",
   "nbconvert_exporter": "python",
   "pygments_lexer": "ipython3",
   "version": "3.6.9"
  }
 },
 "nbformat": 4,
 "nbformat_minor": 5
}
