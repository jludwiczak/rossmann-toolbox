{
 "cells": [
  {
   "cell_type": "code",
   "execution_count": 1,
   "id": "d353cb57",
   "metadata": {},
   "outputs": [
    {
     "name": "stderr",
     "output_type": "stream",
     "text": [
      "Using backend: pytorch\n"
     ]
    }
   ],
   "source": [
    "from rossmann_toolbox import RossmannToolbox\n",
    "import matplotlib.pyplot as plt"
   ]
  },
  {
   "cell_type": "code",
   "execution_count": 2,
   "id": "60639096",
   "metadata": {},
   "outputs": [],
   "source": [
    "rtb = RossmannToolbox(use_gpu=True, hhsearch_loc='/opt/apps/hh-suite/bin/hhsearch')"
   ]
  },
  {
   "cell_type": "code",
   "execution_count": 3,
   "id": "5a746690",
   "metadata": {},
   "outputs": [],
   "source": [
    "data = {'1b8u_A': 'MAKTPMRVAVTGAAGQICYSLLFRIANGDMLGKDQPVILQLLEIPNEKAQKALQGVMMEIDDCAFPLLAGMTAHADPMTAFKDADVALLVGARPRGPGMERKDLLEANAQIFTVQGKAIDAVASRNIKVLVVGNPANTNAYIAMKSAPSLPAKNFTAMLRLDHNRALSQIAAKTGKPVSSIEKLFVWGNHSPTMYADYRYAQIDGASVKDMINDDAWNRDTFLPTVGKRGAAIIDARGVSSAASAANAAIDHIHDWVLGTAGKWTTMGIPSDGSYGIPEGVIFGFPVTTENGEYKIVQGLSIDAFSQERINVTLNELLEEQNGVQHLLG'}"
   ]
  },
  {
   "cell_type": "markdown",
   "id": "1cd2f93f",
   "metadata": {},
   "source": [
    "### Detect cores in full-length sequence"
   ]
  },
  {
   "cell_type": "code",
   "execution_count": 4,
   "id": "5348eb93",
   "metadata": {},
   "outputs": [],
   "source": [
    "# DL-based detection\n",
    "cores1 = rtb.seq_detect_cores(data, mode='dl')\n",
    "# HHsearch-based detection\n",
    "cores2 = rtb.seq_detect_cores(data, mode='hhsearch')"
   ]
  },
  {
   "cell_type": "code",
   "execution_count": 5,
   "id": "cac7734a",
   "metadata": {},
   "outputs": [
    {
     "data": {
      "text/plain": [
       "<matplotlib.legend.Legend at 0x7fd80b9b0a20>"
      ]
     },
     "execution_count": 5,
     "metadata": {},
     "output_type": "execute_result"
    },
    {
     "data": {
      "image/png": "[encoded data removed]",
      "text/plain": [
       "<Figure size 432x288 with 1 Axes>"
      ]
     },
     "metadata": {
      "needs_background": "light"
     },
     "output_type": "display_data"
    }
   ],
   "source": [
    "# Plotting\n",
    "plt.plot(cores1['1b8u_A'][1], label='dl')\n",
    "plt.plot(cores2['1b8u_A'][1], label='hhpred')\n",
    "plt.ylabel('Probability', fontsize=14)\n",
    "plt.legend()"
   ]
  },
  {
   "cell_type": "code",
   "execution_count": 6,
   "id": "2f726697",
   "metadata": {},
   "outputs": [
    {
     "data": {
      "text/plain": [
       "({0: (0, 49, 0.9999999)}, {0: (5, 27, 0.662)})"
      ]
     },
     "execution_count": 6,
     "metadata": {},
     "output_type": "execute_result"
    }
   ],
   "source": [
    "# Hit description\n",
    "cores1['1b8u_A'][0], cores2['1b8u_A'][0]"
   ]
  },
  {
   "cell_type": "markdown",
   "id": "7536705f",
   "metadata": {},
   "source": [
    "### Run prediction on cores"
   ]
  },
  {
   "cell_type": "code",
   "execution_count": 7,
   "id": "98bdeab7",
   "metadata": {},
   "outputs": [
    {
     "data": {
      "text/plain": [
       "{'1b8u_A': {'FAD': 0.00074189017,\n",
       "  'FAD_std': 0.0008465903,\n",
       "  'NAD': 0.9872206,\n",
       "  'NAD_std': 0.020668598,\n",
       "  'NADP': 0.017817048,\n",
       "  'NADP_std': 0.02407751,\n",
       "  'SAM': 0.0004566825,\n",
       "  'SAM_std': 0.00084328325}}"
      ]
     },
     "execution_count": 7,
     "metadata": {},
     "output_type": "execute_result"
    }
   ],
   "source": [
    "data = {'1b8u_A': 'MAKTPMRVAVTGAAGQICYSLLFRIANGDMLGKDQPVILQLLEIPNEKA'} # DL-based hit\n",
    "rtb.predict(data, mode='core', importance=False)"
   ]
  },
  {
   "cell_type": "code",
   "execution_count": 8,
   "id": "c8487e15",
   "metadata": {},
   "outputs": [
    {
     "data": {
      "text/plain": [
       "{'1b8u_A': {'FAD': 0.18007697,\n",
       "  'FAD_std': 0.16300642,\n",
       "  'NAD': 0.50282633,\n",
       "  'NAD_std': 0.25215167,\n",
       "  'NADP': 0.3871831,\n",
       "  'NADP_std': 0.28262144,\n",
       "  'SAM': 0.03431775,\n",
       "  'SAM_std': 0.04995533}}"
      ]
     },
     "execution_count": 8,
     "metadata": {},
     "output_type": "execute_result"
    }
   ],
   "source": [
    "data = {'1b8u_A': 'MRVAVTGAAGQICYSLLFRIAN'} # hhsearch-based hit\n",
    "rtb.predict(data, mode='core', importance=False)"
   ]
  },
  {
   "cell_type": "markdown",
   "id": "79526ff0",
   "metadata": {},
   "source": [
    "### Run prediction on full-length sequences (wrap core detection and evaluation)"
   ]
  },
  {
   "cell_type": "code",
   "execution_count": 9,
   "id": "d8ea06d8",
   "metadata": {},
   "outputs": [],
   "source": [
    "data = {'1b8u_A': 'MAKTPMRVAVTGAAGQICYSLLFRIANGDMLGKDQPVILQLLEIPNEKAQKALQGVMMEIDDCAFPLLAGMTAHADPMTAFKDADVALLVGARPRGPGMERKDLLEANAQIFTVQGKAIDAVASRNIKVLVVGNPANTNAYIAMKSAPSLPAKNFTAMLRLDHNRALSQIAAKTGKPVSSIEKLFVWGNHSPTMYADYRYAQIDGASVKDMINDDAWNRDTFLPTVGKRGAAIIDARGVSSAASAANAAIDHIHDWVLGTAGKWTTMGIPSDGSYGIPEGVIFGFPVTTENGEYKIVQGLSIDAFSQERINVTLNELLEEQNGVQHLLG'}"
   ]
  },
  {
   "cell_type": "code",
   "execution_count": 10,
   "id": "c2777852",
   "metadata": {},
   "outputs": [
    {
     "data": {
      "text/plain": [
       "{'1b8u_A': {'FAD': 0.0007418316,\n",
       "  'FAD_std': 0.0008465512,\n",
       "  'NAD': 0.98721945,\n",
       "  'NAD_std': 0.020669712,\n",
       "  'NADP': 0.01781941,\n",
       "  'NADP_std': 0.024079323,\n",
       "  'SAM': 0.000456687,\n",
       "  'SAM_std': 0.00084328663,\n",
       "  'sequence': 'MAKTPMRVAVTGAAGQICYSLLFRIANGDMLGKDQPVILQLLEIPNEKA'}}"
      ]
     },
     "execution_count": 10,
     "metadata": {},
     "output_type": "execute_result"
    }
   ],
   "source": [
    "rtb.predict(data, mode='seq', core_detect_mode='dl')"
   ]
  },
  {
   "cell_type": "code",
   "execution_count": 11,
   "id": "ae2df789",
   "metadata": {},
   "outputs": [
    {
     "data": {
      "text/plain": [
       "{'1b8u_A': {'FAD': 0.18007685,\n",
       "  'FAD_std': 0.16300616,\n",
       "  'NAD': 0.50282645,\n",
       "  'NAD_std': 0.25215176,\n",
       "  'NADP': 0.38718295,\n",
       "  'NADP_std': 0.2826214,\n",
       "  'SAM': 0.03431774,\n",
       "  'SAM_std': 0.04995533,\n",
       "  'sequence': 'MRVAVTGAAGQICYSLLFRIAN'}}"
      ]
     },
     "execution_count": 11,
     "metadata": {},
     "output_type": "execute_result"
    }
   ],
   "source": [
    "rtb.predict(data, mode='seq', core_detect_mode='hhsearch')"
   ]
  },
  {
   "cell_type": "code",
   "execution_count": null,
   "id": "c221c876",
   "metadata": {},
   "outputs": [],
   "source": []
  }
 ],
 "metadata": {
  "kernelspec": {
   "display_name": "Python 3",
   "language": "python",
   "name": "python3"
  },
  "language_info": {
   "codemirror_mode": {
    "name": "ipython",
    "version": 3
   },
   "file_extension": ".py",
   "mimetype": "text/x-python",
   "name": "python",
   "nbconvert_exporter": "python",
   "pygments_lexer": "ipython3",
   "version": "3.6.9"
  }
 },
 "nbformat": 4,
 "nbformat_minor": 5
}
