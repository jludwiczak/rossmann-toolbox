{
 "cells": [
  {
   "cell_type": "code",
   "execution_count": 1,
   "id": "2afa126b-d2fb-46ee-9f38-f8b9aafd9f15",
   "metadata": {},
   "outputs": [],
   "source": [
    "%load_ext autoreload\n",
    "%autoreload 2"
   ]
  },
  {
   "cell_type": "code",
   "execution_count": 2,
   "id": "generous-center",
   "metadata": {},
   "outputs": [],
   "source": [
    "import sys\n",
    "import os\n",
    "import pandas as pd\n",
    "\n",
    "PATH_CACHED_STRUCTURES = '/home/users/kkaminski/DL/rossmann-toolbox/tests/data'\n",
    "PATH_FOLDX = '/home/users/sdunin/apps/foldx5/foldx'"
   ]
  },
  {
   "cell_type": "code",
   "execution_count": 3,
   "id": "7c43ee7e-4026-4767-9903-49daae5c32c9",
   "metadata": {},
   "outputs": [
    {
     "name": "stderr",
     "output_type": "stream",
     "text": [
      "Using backend: pytorch\n"
     ]
    },
    {
     "name": "stdout",
     "output_type": "stream",
     "text": [
      "loaded 4 models\n"
     ]
    }
   ],
   "source": [
    "from rossmann_toolbox import RossmannToolbox\n",
    "rtb = RossmannToolbox(use_gpu=True, path_foldx_bin = PATH_FOLDX)"
   ]
  },
  {
   "cell_type": "code",
   "execution_count": 6,
   "id": "ee1c1b65-15f8-44c4-92d5-6b5befbda27f",
   "metadata": {},
   "outputs": [
    {
     "name": "stdout",
     "output_type": "stream",
     "text": [
      "creating foldx feature file...\n",
      "FoldX features read from cache...\n",
      "/home/users/kkaminski/anaconda3/envs/rtb/lib/python3.6/site-packages/Bio/PDB/Atom.py:218 - Used element 'N' for Atom (name=N) with given element ''\n",
      "/home/users/kkaminski/anaconda3/envs/rtb/lib/python3.6/site-packages/Bio/PDB/Atom.py:218 - Used element 'C' for Atom (name=CA) with given element ''\n",
      "/home/users/kkaminski/anaconda3/envs/rtb/lib/python3.6/site-packages/Bio/PDB/Atom.py:218 - Used element 'C' for Atom (name=C) with given element ''\n",
      "/home/users/kkaminski/anaconda3/envs/rtb/lib/python3.6/site-packages/Bio/PDB/Atom.py:218 - Used element 'O' for Atom (name=O) with given element ''\n",
      "/home/users/kkaminski/anaconda3/envs/rtb/lib/python3.6/site-packages/Bio/PDB/Atom.py:218 - Used element 'C' for Atom (name=CB) with given element ''\n",
      "/home/users/kkaminski/anaconda3/envs/rtb/lib/python3.6/site-packages/Bio/PDB/Atom.py:218 - Used element 'O' for Atom (name=OG) with given element ''\n",
      "/home/users/kkaminski/anaconda3/envs/rtb/lib/python3.6/site-packages/Bio/PDB/Atom.py:218 - Used element 'C' for Atom (name=CG1) with given element ''\n",
      "/home/users/kkaminski/anaconda3/envs/rtb/lib/python3.6/site-packages/Bio/PDB/Atom.py:218 - Used element 'C' for Atom (name=CG2) with given element ''\n",
      "/home/users/kkaminski/anaconda3/envs/rtb/lib/python3.6/site-packages/Bio/PDB/Atom.py:218 - Used element 'C' for Atom (name=CD1) with given element ''\n",
      "/home/users/kkaminski/anaconda3/envs/rtb/lib/python3.6/site-packages/Bio/PDB/Atom.py:218 - Used element 'C' for Atom (name=CG) with given element ''\n",
      "/home/users/kkaminski/anaconda3/envs/rtb/lib/python3.6/site-packages/Bio/PDB/Atom.py:218 - Used element 'O' for Atom (name=OD1) with given element ''\n",
      "/home/users/kkaminski/anaconda3/envs/rtb/lib/python3.6/site-packages/Bio/PDB/Atom.py:218 - Used element 'O' for Atom (name=OD2) with given element ''\n",
      "/home/users/kkaminski/anaconda3/envs/rtb/lib/python3.6/site-packages/Bio/PDB/Atom.py:218 - Used element 'C' for Atom (name=CD2) with given element ''\n",
      "/home/users/kkaminski/anaconda3/envs/rtb/lib/python3.6/site-packages/Bio/PDB/Atom.py:218 - Used element 'N' for Atom (name=ND2) with given element ''\n",
      "/home/users/kkaminski/anaconda3/envs/rtb/lib/python3.6/site-packages/Bio/PDB/Atom.py:218 - Used element 'N' for Atom (name=NE1) with given element ''\n",
      "/home/users/kkaminski/anaconda3/envs/rtb/lib/python3.6/site-packages/Bio/PDB/Atom.py:218 - Used element 'C' for Atom (name=CE2) with given element ''\n",
      "/home/users/kkaminski/anaconda3/envs/rtb/lib/python3.6/site-packages/Bio/PDB/Atom.py:218 - Used element 'C' for Atom (name=CE3) with given element ''\n",
      "/home/users/kkaminski/anaconda3/envs/rtb/lib/python3.6/site-packages/Bio/PDB/Atom.py:218 - Used element 'C' for Atom (name=CZ2) with given element ''\n",
      "/home/users/kkaminski/anaconda3/envs/rtb/lib/python3.6/site-packages/Bio/PDB/Atom.py:218 - Used element 'C' for Atom (name=CZ3) with given element ''\n",
      "/home/users/kkaminski/anaconda3/envs/rtb/lib/python3.6/site-packages/Bio/PDB/Atom.py:218 - Used element 'C' for Atom (name=CH2) with given element ''\n",
      "/home/users/kkaminski/anaconda3/envs/rtb/lib/python3.6/site-packages/Bio/PDB/Atom.py:218 - Used element 'C' for Atom (name=CD) with given element ''\n",
      "/home/users/kkaminski/anaconda3/envs/rtb/lib/python3.6/site-packages/Bio/PDB/Atom.py:218 - Used element 'O' for Atom (name=OE1) with given element ''\n",
      "/home/users/kkaminski/anaconda3/envs/rtb/lib/python3.6/site-packages/Bio/PDB/Atom.py:218 - Used element 'O' for Atom (name=OE2) with given element ''\n",
      "/home/users/kkaminski/anaconda3/envs/rtb/lib/python3.6/site-packages/Bio/PDB/Atom.py:218 - Used element 'S' for Atom (name=SD) with given element ''\n",
      "/home/users/kkaminski/anaconda3/envs/rtb/lib/python3.6/site-packages/Bio/PDB/Atom.py:218 - Used element 'C' for Atom (name=CE) with given element ''\n",
      "/home/users/kkaminski/anaconda3/envs/rtb/lib/python3.6/site-packages/Bio/PDB/Atom.py:218 - Used element 'O' for Atom (name=OG1) with given element ''\n",
      "/home/users/kkaminski/anaconda3/envs/rtb/lib/python3.6/site-packages/Bio/PDB/Atom.py:218 - Used element 'N' for Atom (name=NE) with given element ''\n",
      "/home/users/kkaminski/anaconda3/envs/rtb/lib/python3.6/site-packages/Bio/PDB/Atom.py:218 - Used element 'C' for Atom (name=CZ) with given element ''\n",
      "/home/users/kkaminski/anaconda3/envs/rtb/lib/python3.6/site-packages/Bio/PDB/Atom.py:218 - Used element 'N' for Atom (name=NH1) with given element ''\n",
      "/home/users/kkaminski/anaconda3/envs/rtb/lib/python3.6/site-packages/Bio/PDB/Atom.py:218 - Used element 'N' for Atom (name=NH2) with given element ''\n",
      "/home/users/kkaminski/anaconda3/envs/rtb/lib/python3.6/site-packages/Bio/PDB/Atom.py:218 - Used element 'C' for Atom (name=CE1) with given element ''\n",
      "/home/users/kkaminski/anaconda3/envs/rtb/lib/python3.6/site-packages/Bio/PDB/Atom.py:218 - Used element 'N' for Atom (name=ND1) with given element ''\n",
      "/home/users/kkaminski/anaconda3/envs/rtb/lib/python3.6/site-packages/Bio/PDB/Atom.py:218 - Used element 'N' for Atom (name=NE2) with given element ''\n",
      "/home/users/kkaminski/anaconda3/envs/rtb/lib/python3.6/site-packages/Bio/PDB/Atom.py:218 - Used element 'O' for Atom (name=OH) with given element ''\n",
      "/home/users/kkaminski/anaconda3/envs/rtb/lib/python3.6/site-packages/Bio/PDB/Atom.py:218 - Used element 'N' for Atom (name=NZ) with given element ''\n",
      "/home/users/kkaminski/anaconda3/envs/rtb/lib/python3.6/site-packages/Bio/PDB/Atom.py:218 - Used element 'S' for Atom (name=SG) with given element ''\n",
      "/home/users/kkaminski/anaconda3/envs/rtb/lib/python3.6/site-packages/Bio/PDB/Atom.py:218 - Used element 'O' for Atom (name=OXT) with given element ''\n",
      "parsing /home/users/kkaminski/DL/rossmann-toolbox/tests/data/InteractingResidues_Hbonds_Optimized_1bw9_A_Repair_PN.fxout\n",
      "--- Residue-Residue Interactions\n",
      "--- Mainchain-Mainchain Interactions\n",
      "--- Sidechain-Mainchain Interactions\n",
      "--- Sidechain-Sidechain Interactions\n",
      "parsing /home/users/kkaminski/DL/rossmann-toolbox/tests/data/InteractingResidues_Volumetric_Optimized_1bw9_A_Repair_PN.fxout\n",
      "--- Residue-Residue Interactions\n",
      "--- Mainchain-Mainchain Interactions\n",
      "--- Sidechain-Mainchain Interactions\n",
      "--- Sidechain-Sidechain Interactions\n",
      "parsing /home/users/kkaminski/DL/rossmann-toolbox/tests/data/InteractingResidues_Electro_Optimized_1bw9_A_Repair_PN.fxout\n",
      "--- Residue-Residue Interactions\n",
      "--- Mainchain-Mainchain Interactions\n",
      "--- Sidechain-Mainchain Interactions\n",
      "--- Sidechain-Sidechain Interactions\n",
      "parsing /home/users/kkaminski/DL/rossmann-toolbox/tests/data/InteractingResidues_VdWClashes_Optimized_1bw9_A_Repair_PN.fxout\n",
      "--- Residue-Residue Interactions\n",
      "--- Mainchain-Mainchain Interactions\n",
      "--- Sidechain-Mainchain Interactions\n",
      "--- Sidechain-Sidechain Interactions\n",
      "seq to process: 1 1\n"
     ]
    }
   ],
   "source": [
    "path_to_structures = '/home/users/kkaminski/DL/rossmann-toolbox/tests/data'\n",
    "chains_to_use = ['1bw9_A']\n",
    "r = rtb.predict_structure(path_to_structures, chains_to_use)"
   ]
  },
  {
   "cell_type": "code",
   "execution_count": 9,
   "id": "9e47b432-23d5-41fb-a46e-917d5fb4f493",
   "metadata": {},
   "outputs": [
    {
     "data": {
      "text/plain": [
       "[{'NAD': 0.0,\n",
       "  'NADP': 0.625,\n",
       "  'SAM': 0.25,\n",
       "  'FAD': 0.0,\n",
       "  'cofactor': 'NADP',\n",
       "  'seq': 'LGSLDGLTVLVQGLGAVGGSLASLAAEAGAQLLVADTDTER',\n",
       "  'NAD_std': 0.0,\n",
       "  'NADP_std': 0.25,\n",
       "  'SAM_std': 0.5,\n",
       "  'FAD_std': 0.0}]"
      ]
     },
     "execution_count": 9,
     "metadata": {},
     "output_type": "execute_result"
    }
   ],
   "source": [
    "r.to_dict(orient='records')"
   ]
  },
  {
   "cell_type": "code",
   "execution_count": null,
   "id": "05e36530-cadd-417d-a07b-6952501098dc",
   "metadata": {},
   "outputs": [],
   "source": []
  }
 ],
 "metadata": {
  "kernelspec": {
   "display_name": "Python 3",
   "language": "python",
   "name": "python3"
  },
  "language_info": {
   "codemirror_mode": {
    "name": "ipython",
    "version": 3
   },
   "file_extension": ".py",
   "mimetype": "text/x-python",
   "name": "python",
   "nbconvert_exporter": "python",
   "pygments_lexer": "ipython3",
   "version": "3.6.13"
  }
 },
 "nbformat": 4,
 "nbformat_minor": 5
}
